{
 "cells": [
  {
   "cell_type": "markdown",
   "metadata": {},
   "source": [
    "# PART 1 - Data Preprocessing\n"
   ]
  },
  {
   "cell_type": "markdown",
   "metadata": {},
   "source": [
    "### Importing Libraries\n"
   ]
  },
  {
   "cell_type": "code",
   "execution_count": 1,
   "metadata": {},
   "outputs": [],
   "source": [
    "import numpy as np\n",
    "import matplotlib.pyplot as plt\n",
    "import pandas as pd"
   ]
  },
  {
   "cell_type": "markdown",
   "metadata": {},
   "source": [
    "### Importing Data Set\n"
   ]
  },
  {
   "cell_type": "code",
   "execution_count": 2,
   "metadata": {},
   "outputs": [],
   "source": [
    "dataset = pd.read_csv('Churn_Modelling.csv')\n",
    "X = dataset.iloc[:, 3:13].values\n",
    "y = dataset.iloc[:, 13].values"
   ]
  },
  {
   "cell_type": "markdown",
   "metadata": {},
   "source": [
    "### Encoding Categorical Data\n"
   ]
  },
  {
   "cell_type": "code",
   "execution_count": 3,
   "metadata": {},
   "outputs": [
    {
     "name": "stderr",
     "output_type": "stream",
     "text": [
      "C:\\Users\\rutwi\\Anaconda3\\lib\\site-packages\\sklearn\\preprocessing\\_encoders.py:368: FutureWarning: The handling of integer data will change in version 0.22. Currently, the categories are determined based on the range [0, max(values)], while in the future they will be determined based on the unique values.\n",
      "If you want the future behaviour and silence this warning, you can specify \"categories='auto'\".\n",
      "In case you used a LabelEncoder before this OneHotEncoder to convert the categories to integers, then you can now use the OneHotEncoder directly.\n",
      "  warnings.warn(msg, FutureWarning)\n",
      "C:\\Users\\rutwi\\Anaconda3\\lib\\site-packages\\sklearn\\preprocessing\\_encoders.py:390: DeprecationWarning: The 'categorical_features' keyword is deprecated in version 0.20 and will be removed in 0.22. You can use the ColumnTransformer instead.\n",
      "  \"use the ColumnTransformer instead.\", DeprecationWarning)\n"
     ]
    }
   ],
   "source": [
    "from sklearn.preprocessing import LabelEncoder, OneHotEncoder\n",
    "labelencoder_X_1 = LabelEncoder()\n",
    "X[:, 1] = labelencoder_X_1.fit_transform(X[:, 1])\n",
    "\n",
    "labelencoder_X_2 = LabelEncoder()\n",
    "X[:, 2] = labelencoder_X_2.fit_transform(X[:, 2])\n",
    "\n",
    "onehotencoder = OneHotEncoder(categorical_features = [1])\n",
    "X = onehotencoder.fit_transform(X).toarray()"
   ]
  },
  {
   "cell_type": "markdown",
   "metadata": {},
   "source": [
    "### Removing first column\n"
   ]
  },
  {
   "cell_type": "code",
   "execution_count": 4,
   "metadata": {},
   "outputs": [],
   "source": [
    "X = X[:,1:]\n"
   ]
  },
  {
   "cell_type": "markdown",
   "metadata": {},
   "source": [
    "### Splitting Dataset intro Training and Testing Dataset\n"
   ]
  },
  {
   "cell_type": "code",
   "execution_count": 7,
   "metadata": {},
   "outputs": [],
   "source": [
    "from sklearn.model_selection import train_test_split\n",
    "X_train, X_test, y_train, y_test = train_test_split(X,y, test_size = 0.2, random_state =0)\n"
   ]
  },
  {
   "cell_type": "markdown",
   "metadata": {},
   "source": [
    "### Feature Scaling\n"
   ]
  },
  {
   "cell_type": "code",
   "execution_count": 8,
   "metadata": {},
   "outputs": [],
   "source": [
    "from sklearn.preprocessing import StandardScaler\n",
    "sc_X = StandardScaler()\n",
    "X_train = sc_X.fit_transform(X_train)\n",
    "X_test = sc_X.transform(X_test)"
   ]
  },
  {
   "cell_type": "markdown",
   "metadata": {},
   "source": [
    "# PART 2 - Now Lets make the ANN\n"
   ]
  },
  {
   "cell_type": "markdown",
   "metadata": {},
   "source": [
    "### Importing keras libraries and packages\n"
   ]
  },
  {
   "cell_type": "code",
   "execution_count": 15,
   "metadata": {},
   "outputs": [
    {
     "name": "stderr",
     "output_type": "stream",
     "text": [
      "Using TensorFlow backend.\n"
     ]
    }
   ],
   "source": [
    "import keras\n",
    "from keras.models import Sequential\n",
    "from keras.layers  import Dense"
   ]
  },
  {
   "cell_type": "code",
   "execution_count": 16,
   "metadata": {},
   "outputs": [
    {
     "name": "stderr",
     "output_type": "stream",
     "text": [
      "C:\\Users\\rutwi\\Anaconda3\\lib\\site-packages\\ipykernel_launcher.py:5: UserWarning: Update your `Dense` call to the Keras 2 API: `Dense(activation=\"relu\", input_dim=11, units=6, kernel_initializer=\"uniform\")`\n",
      "  \"\"\"\n",
      "C:\\Users\\rutwi\\Anaconda3\\lib\\site-packages\\ipykernel_launcher.py:8: UserWarning: Update your `Dense` call to the Keras 2 API: `Dense(activation=\"relu\", units=6, kernel_initializer=\"uniform\")`\n",
      "  \n",
      "C:\\Users\\rutwi\\Anaconda3\\lib\\site-packages\\ipykernel_launcher.py:11: UserWarning: Update your `Dense` call to the Keras 2 API: `Dense(activation=\"sigmoid\", units=1, kernel_initializer=\"uniform\")`\n",
      "  # This is added back by InteractiveShellApp.init_path()\n",
      "C:\\Users\\rutwi\\Anaconda3\\lib\\site-packages\\ipykernel_launcher.py:17: UserWarning: The `nb_epoch` argument in `fit` has been renamed `epochs`.\n"
     ]
    },
    {
     "name": "stdout",
     "output_type": "stream",
     "text": [
      "Epoch 1/100\n",
      "8000/8000 [==============================] - 1s 169us/step - loss: 0.4874 - acc: 0.7961\n",
      "Epoch 2/100\n",
      "8000/8000 [==============================] - 1s 89us/step - loss: 0.4218 - acc: 0.8146\n",
      "Epoch 3/100\n",
      "8000/8000 [==============================] - 1s 86us/step - loss: 0.4145 - acc: 0.8242\n",
      "Epoch 4/100\n",
      "8000/8000 [==============================] - 1s 84us/step - loss: 0.4101 - acc: 0.8286\n",
      "Epoch 5/100\n",
      "8000/8000 [==============================] - 1s 86us/step - loss: 0.4074 - acc: 0.8292\n",
      "Epoch 6/100\n",
      "8000/8000 [==============================] - 1s 85us/step - loss: 0.4057 - acc: 0.8324\n",
      "Epoch 7/100\n",
      "8000/8000 [==============================] - 1s 84us/step - loss: 0.4039 - acc: 0.8317\n",
      "Epoch 8/100\n",
      "8000/8000 [==============================] - 1s 85us/step - loss: 0.4027 - acc: 0.8312\n",
      "Epoch 9/100\n",
      "8000/8000 [==============================] - 1s 84us/step - loss: 0.4015 - acc: 0.8321\n",
      "Epoch 10/100\n",
      "8000/8000 [==============================] - 1s 92us/step - loss: 0.4001 - acc: 0.8324\n",
      "Epoch 11/100\n",
      "8000/8000 [==============================] - 1s 90us/step - loss: 0.4000 - acc: 0.8309\n",
      "Epoch 12/100\n",
      "8000/8000 [==============================] - 1s 87us/step - loss: 0.3985 - acc: 0.8327\n",
      "Epoch 13/100\n",
      "8000/8000 [==============================] - 1s 84us/step - loss: 0.3978 - acc: 0.8321\n",
      "Epoch 14/100\n",
      "8000/8000 [==============================] - 1s 92us/step - loss: 0.3970 - acc: 0.8337\n",
      "Epoch 15/100\n",
      "8000/8000 [==============================] - 1s 88us/step - loss: 0.3962 - acc: 0.8332\n",
      "Epoch 16/100\n",
      "8000/8000 [==============================] - 1s 84us/step - loss: 0.3945 - acc: 0.8344: 0s - loss: 0.3815 -\n",
      "Epoch 17/100\n",
      "8000/8000 [==============================] - 1s 82us/step - loss: 0.3934 - acc: 0.8334: 0s - loss: 0.3926 - acc: 0.833\n",
      "Epoch 18/100\n",
      "8000/8000 [==============================] - 1s 81us/step - loss: 0.3922 - acc: 0.8329\n",
      "Epoch 19/100\n",
      "8000/8000 [==============================] - 1s 85us/step - loss: 0.3911 - acc: 0.8334\n",
      "Epoch 20/100\n",
      "8000/8000 [==============================] - 1s 85us/step - loss: 0.3890 - acc: 0.8331\n",
      "Epoch 21/100\n",
      "8000/8000 [==============================] - 1s 82us/step - loss: 0.3883 - acc: 0.8354\n",
      "Epoch 22/100\n",
      "8000/8000 [==============================] - 1s 83us/step - loss: 0.3853 - acc: 0.8345\n",
      "Epoch 23/100\n",
      "8000/8000 [==============================] - 1s 83us/step - loss: 0.3837 - acc: 0.8341\n",
      "Epoch 24/100\n",
      "8000/8000 [==============================] - 1s 82us/step - loss: 0.3808 - acc: 0.8336\n",
      "Epoch 25/100\n",
      "8000/8000 [==============================] - 1s 83us/step - loss: 0.3778 - acc: 0.8335\n",
      "Epoch 26/100\n",
      "8000/8000 [==============================] - 1s 83us/step - loss: 0.3725 - acc: 0.8377\n",
      "Epoch 27/100\n",
      "8000/8000 [==============================] - 1s 83us/step - loss: 0.3653 - acc: 0.8429\n",
      "Epoch 28/100\n",
      "8000/8000 [==============================] - 1s 84us/step - loss: 0.3573 - acc: 0.8535\n",
      "Epoch 29/100\n",
      "8000/8000 [==============================] - 1s 84us/step - loss: 0.3505 - acc: 0.8579\n",
      "Epoch 30/100\n",
      "8000/8000 [==============================] - 1s 83us/step - loss: 0.3479 - acc: 0.8601\n",
      "Epoch 31/100\n",
      "8000/8000 [==============================] - 1s 92us/step - loss: 0.3458 - acc: 0.8592\n",
      "Epoch 32/100\n",
      "8000/8000 [==============================] - 1s 84us/step - loss: 0.3442 - acc: 0.8599\n",
      "Epoch 33/100\n",
      "8000/8000 [==============================] - 1s 86us/step - loss: 0.3427 - acc: 0.8609\n",
      "Epoch 34/100\n",
      "8000/8000 [==============================] - 1s 75us/step - loss: 0.3427 - acc: 0.8614\n",
      "Epoch 35/100\n",
      "8000/8000 [==============================] - 1s 79us/step - loss: 0.3413 - acc: 0.8627\n",
      "Epoch 36/100\n",
      "8000/8000 [==============================] - 1s 81us/step - loss: 0.3408 - acc: 0.8612\n",
      "Epoch 37/100\n",
      "8000/8000 [==============================] - 1s 83us/step - loss: 0.3411 - acc: 0.8625\n",
      "Epoch 38/100\n",
      "8000/8000 [==============================] - 1s 82us/step - loss: 0.3400 - acc: 0.8609\n",
      "Epoch 39/100\n",
      "8000/8000 [==============================] - 1s 81us/step - loss: 0.3399 - acc: 0.8617\n",
      "Epoch 40/100\n",
      "8000/8000 [==============================] - 1s 84us/step - loss: 0.3392 - acc: 0.8619\n",
      "Epoch 41/100\n",
      "8000/8000 [==============================] - 1s 83us/step - loss: 0.3397 - acc: 0.8636: 0s - loss: 0.3464 - a\n",
      "Epoch 42/100\n",
      "8000/8000 [==============================] - 1s 87us/step - loss: 0.3391 - acc: 0.8611\n",
      "Epoch 43/100\n",
      "8000/8000 [==============================] - 1s 72us/step - loss: 0.3387 - acc: 0.8624\n",
      "Epoch 44/100\n",
      "8000/8000 [==============================] - 1s 81us/step - loss: 0.3387 - acc: 0.8609\n",
      "Epoch 45/100\n",
      "8000/8000 [==============================] - 1s 74us/step - loss: 0.3393 - acc: 0.8619\n",
      "Epoch 46/100\n",
      "8000/8000 [==============================] - 1s 80us/step - loss: 0.3389 - acc: 0.8620\n",
      "Epoch 47/100\n",
      "8000/8000 [==============================] - 1s 90us/step - loss: 0.3385 - acc: 0.8621\n",
      "Epoch 48/100\n",
      "8000/8000 [==============================] - 1s 81us/step - loss: 0.3393 - acc: 0.8620\n",
      "Epoch 49/100\n",
      "8000/8000 [==============================] - 1s 76us/step - loss: 0.3386 - acc: 0.8627\n",
      "Epoch 50/100\n",
      "8000/8000 [==============================] - 1s 80us/step - loss: 0.3379 - acc: 0.8610\n",
      "Epoch 51/100\n",
      "8000/8000 [==============================] - 1s 81us/step - loss: 0.3379 - acc: 0.8621\n",
      "Epoch 52/100\n",
      "8000/8000 [==============================] - 1s 78us/step - loss: 0.3380 - acc: 0.8615\n",
      "Epoch 53/100\n",
      "8000/8000 [==============================] - 1s 92us/step - loss: 0.3382 - acc: 0.8620\n",
      "Epoch 54/100\n",
      "8000/8000 [==============================] - 1s 81us/step - loss: 0.3377 - acc: 0.8625\n",
      "Epoch 55/100\n",
      "8000/8000 [==============================] - 1s 73us/step - loss: 0.3381 - acc: 0.8634\n",
      "Epoch 56/100\n",
      "8000/8000 [==============================] - 1s 80us/step - loss: 0.3378 - acc: 0.8599\n",
      "Epoch 57/100\n",
      "8000/8000 [==============================] - 1s 83us/step - loss: 0.3377 - acc: 0.8625\n",
      "Epoch 58/100\n",
      "8000/8000 [==============================] - 1s 86us/step - loss: 0.3374 - acc: 0.8612\n",
      "Epoch 59/100\n",
      "8000/8000 [==============================] - 1s 75us/step - loss: 0.3377 - acc: 0.8620\n",
      "Epoch 60/100\n",
      "8000/8000 [==============================] - 1s 72us/step - loss: 0.3376 - acc: 0.8622\n",
      "Epoch 61/100\n",
      "8000/8000 [==============================] - 1s 78us/step - loss: 0.3371 - acc: 0.8611\n",
      "Epoch 62/100\n",
      "8000/8000 [==============================] - 1s 83us/step - loss: 0.3367 - acc: 0.8626\n",
      "Epoch 63/100\n",
      "8000/8000 [==============================] - 1s 76us/step - loss: 0.3376 - acc: 0.8641\n",
      "Epoch 64/100\n",
      "8000/8000 [==============================] - 1s 74us/step - loss: 0.3375 - acc: 0.8620\n",
      "Epoch 65/100\n",
      "8000/8000 [==============================] - 1s 79us/step - loss: 0.3375 - acc: 0.8614\n",
      "Epoch 66/100\n",
      "8000/8000 [==============================] - 1s 93us/step - loss: 0.3365 - acc: 0.8620\n",
      "Epoch 67/100\n",
      "8000/8000 [==============================] - 1s 81us/step - loss: 0.3368 - acc: 0.8620\n",
      "Epoch 68/100\n",
      "8000/8000 [==============================] - 1s 79us/step - loss: 0.3374 - acc: 0.8617: 0s - loss: 0.3516 - \n",
      "Epoch 69/100\n",
      "8000/8000 [==============================] - 1s 73us/step - loss: 0.3367 - acc: 0.8614\n",
      "Epoch 70/100\n",
      "8000/8000 [==============================] - 1s 74us/step - loss: 0.3370 - acc: 0.8620\n",
      "Epoch 71/100\n",
      "8000/8000 [==============================] - 1s 79us/step - loss: 0.3371 - acc: 0.8635\n",
      "Epoch 72/100\n",
      "8000/8000 [==============================] - 1s 75us/step - loss: 0.3370 - acc: 0.8644\n",
      "Epoch 73/100\n",
      "8000/8000 [==============================] - 1s 74us/step - loss: 0.3366 - acc: 0.8639\n",
      "Epoch 74/100\n",
      "8000/8000 [==============================] - 1s 70us/step - loss: 0.3363 - acc: 0.8630\n",
      "Epoch 75/100\n",
      "8000/8000 [==============================] - 1s 81us/step - loss: 0.3366 - acc: 0.8624\n",
      "Epoch 76/100\n",
      "8000/8000 [==============================] - 1s 80us/step - loss: 0.3369 - acc: 0.8629\n",
      "Epoch 77/100\n",
      "8000/8000 [==============================] - 1s 76us/step - loss: 0.3370 - acc: 0.8629\n",
      "Epoch 78/100\n",
      "8000/8000 [==============================] - 1s 75us/step - loss: 0.3368 - acc: 0.8637\n",
      "Epoch 79/100\n",
      "8000/8000 [==============================] - 1s 74us/step - loss: 0.3369 - acc: 0.8654\n",
      "Epoch 80/100\n",
      "8000/8000 [==============================] - 1s 73us/step - loss: 0.3364 - acc: 0.8635\n",
      "Epoch 81/100\n",
      "8000/8000 [==============================] - 1s 69us/step - loss: 0.3364 - acc: 0.8640\n",
      "Epoch 82/100\n"
     ]
    },
    {
     "name": "stdout",
     "output_type": "stream",
     "text": [
      "8000/8000 [==============================] - 1s 78us/step - loss: 0.3366 - acc: 0.8636\n",
      "Epoch 83/100\n",
      "8000/8000 [==============================] - 1s 79us/step - loss: 0.3362 - acc: 0.8631\n",
      "Epoch 84/100\n",
      "8000/8000 [==============================] - 1s 81us/step - loss: 0.3365 - acc: 0.8641\n",
      "Epoch 85/100\n",
      "8000/8000 [==============================] - 1s 90us/step - loss: 0.3363 - acc: 0.8639\n",
      "Epoch 86/100\n",
      "8000/8000 [==============================] - 1s 90us/step - loss: 0.3368 - acc: 0.8635\n",
      "Epoch 87/100\n",
      "8000/8000 [==============================] - 1s 91us/step - loss: 0.3362 - acc: 0.8641\n",
      "Epoch 88/100\n",
      "8000/8000 [==============================] - 1s 86us/step - loss: 0.3365 - acc: 0.8629\n",
      "Epoch 89/100\n",
      "8000/8000 [==============================] - 1s 84us/step - loss: 0.3356 - acc: 0.8620\n",
      "Epoch 90/100\n",
      "8000/8000 [==============================] - 1s 90us/step - loss: 0.3363 - acc: 0.8636\n",
      "Epoch 91/100\n",
      "8000/8000 [==============================] - 1s 92us/step - loss: 0.3368 - acc: 0.8622\n",
      "Epoch 92/100\n",
      "8000/8000 [==============================] - 1s 90us/step - loss: 0.3357 - acc: 0.8639\n",
      "Epoch 93/100\n",
      "8000/8000 [==============================] - 1s 92us/step - loss: 0.3368 - acc: 0.8636\n",
      "Epoch 94/100\n",
      "8000/8000 [==============================] - 1s 92us/step - loss: 0.3357 - acc: 0.8650\n",
      "Epoch 95/100\n",
      "8000/8000 [==============================] - ETA: 0s - loss: 0.3384 - acc: 0.862 - 1s 89us/step - loss: 0.3363 - acc: 0.8629\n",
      "Epoch 96/100\n",
      "8000/8000 [==============================] - 1s 82us/step - loss: 0.3366 - acc: 0.8626\n",
      "Epoch 97/100\n",
      "8000/8000 [==============================] - 1s 92us/step - loss: 0.3357 - acc: 0.8645\n",
      "Epoch 98/100\n",
      "8000/8000 [==============================] - 1s 87us/step - loss: 0.3362 - acc: 0.8644\n",
      "Epoch 99/100\n",
      "8000/8000 [==============================] - 1s 85us/step - loss: 0.3354 - acc: 0.8637\n",
      "Epoch 100/100\n",
      "8000/8000 [==============================] - 1s 80us/step - loss: 0.3368 - acc: 0.8620\n"
     ]
    },
    {
     "data": {
      "text/plain": [
       "<keras.callbacks.History at 0x155c7a32828>"
      ]
     },
     "execution_count": 16,
     "metadata": {},
     "output_type": "execute_result"
    }
   ],
   "source": [
    "#Initializing the ANN\n",
    "classifier = Sequential()\n",
    "\n",
    "#Adding the input layer and the first hidden layers\n",
    "classifier.add(Dense(output_dim = 6, init = \"uniform\", activation = 'relu', input_dim = 11))\n",
    "\n",
    "#Adding the 2nd Hidden Layer\n",
    "classifier.add(Dense(output_dim = 6, init = \"uniform\", activation = 'relu'))\n",
    "\n",
    "#Adding the Output Layer\n",
    "classifier.add(Dense(output_dim = 1, init = \"uniform\", activation = 'sigmoid'))\n",
    "\n",
    "#Compiling the ANN\n",
    "classifier.compile(optimizer = 'adam', loss = 'binary_crossentropy', metrics = ['accuracy'])\n",
    "\n",
    "#Fitting the ANN to the Training Set\n",
    "classifier.fit(X_train, y_train, batch_size = 10, nb_epoch = 100)"
   ]
  },
  {
   "cell_type": "markdown",
   "metadata": {},
   "source": [
    "# PART 3 - Making the prediction and evaluating the model\n"
   ]
  },
  {
   "cell_type": "markdown",
   "metadata": {},
   "source": [
    "### Predicting the test set results\n"
   ]
  },
  {
   "cell_type": "code",
   "execution_count": 19,
   "metadata": {},
   "outputs": [],
   "source": [
    "y_pred = classifier.predict(X_test)\n",
    "y_pred = (y_pred > 0.5)"
   ]
  },
  {
   "cell_type": "markdown",
   "metadata": {},
   "source": [
    "### Making the Confusion Matrix\n"
   ]
  },
  {
   "cell_type": "code",
   "execution_count": 20,
   "metadata": {},
   "outputs": [],
   "source": [
    "from sklearn.metrics import confusion_matrix\n",
    "cm = confusion_matrix(y_test, y_pred) "
   ]
  },
  {
   "cell_type": "code",
   "execution_count": 21,
   "metadata": {},
   "outputs": [
    {
     "data": {
      "text/plain": [
       "array([[1519,   76],\n",
       "       [ 195,  210]], dtype=int64)"
      ]
     },
     "execution_count": 21,
     "metadata": {},
     "output_type": "execute_result"
    }
   ],
   "source": [
    "cm"
   ]
  },
  {
   "cell_type": "code",
   "execution_count": 22,
   "metadata": {},
   "outputs": [],
   "source": [
    "from sklearn.metrics import accuracy_score"
   ]
  },
  {
   "cell_type": "code",
   "execution_count": 23,
   "metadata": {},
   "outputs": [
    {
     "data": {
      "text/plain": [
       "0.8645"
      ]
     },
     "execution_count": 23,
     "metadata": {},
     "output_type": "execute_result"
    }
   ],
   "source": [
    "accuracy_score(y_test , y_pred)"
   ]
  },
  {
   "cell_type": "code",
   "execution_count": null,
   "metadata": {},
   "outputs": [],
   "source": []
  }
 ],
 "metadata": {
  "kernelspec": {
   "display_name": "Python 3",
   "language": "python",
   "name": "python3"
  },
  "language_info": {
   "codemirror_mode": {
    "name": "ipython",
    "version": 3
   },
   "file_extension": ".py",
   "mimetype": "text/x-python",
   "name": "python",
   "nbconvert_exporter": "python",
   "pygments_lexer": "ipython3",
   "version": "3.6.8"
  }
 },
 "nbformat": 4,
 "nbformat_minor": 2
}
